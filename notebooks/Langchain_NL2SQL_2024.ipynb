{
 "cells": [
  {
   "cell_type": "code",
   "execution_count": 75,
   "metadata": {},
   "outputs": [],
   "source": [
    "import pip\n",
    "\n",
    "def import_or_install(package):\n",
    "    try:\n",
    "        __import__(package)\n",
    "    except ImportError:\n",
    "        pip.main(['install', package])     "
   ]
  },
  {
   "cell_type": "code",
   "execution_count": 73,
   "metadata": {
    "id": "OXdNuzAdWTdv"
   },
   "outputs": [],
   "source": [
    "libraries = [\"langchain_openai\", \"langchain_community\", \"langchain\", \"pymysql\", \"chromadb\"];"
   ]
  },
  {
   "cell_type": "code",
   "execution_count": 77,
   "metadata": {},
   "outputs": [],
   "source": [
    "for library in libraries:\n",
    "    import_or_install(library)"
   ]
  },
  {
   "cell_type": "code",
   "execution_count": 1,
   "metadata": {
    "id": "c91p9Ep90S9j"
   },
   "outputs": [],
   "source": [
    "db_user = \"\"\n",
    "db_password = \"\"\n",
    "db_host = \"\"\n",
    "db_name = \"\""
   ]
  },
  {
   "cell_type": "markdown",
   "metadata": {
    "id": "OQJ4HJ-6WYjk"
   },
   "source": [
    "###Building a basic NL2SQL model"
   ]
  },
  {
   "cell_type": "code",
   "execution_count": 13,
   "metadata": {
    "id": "jiNjFg1i0U3Z"
   },
   "outputs": [],
   "source": [
    "from langchain_community.utilities.sql_database import SQLDatabase\n",
    "# db = SQLDatabase.from_uri(f\"mysql+pymysql://{db_user}:{db_password}@{db_host}/{db_name}\",sample_rows_in_table_info=1,include_tables=['customers','orders'],custom_table_info={'customers':\"customer\"})\n",
    "db = SQLDatabase.from_uri(f\"postgresql://{db_user}:{db_password}@{db_host}/{db_name}\")"
   ]
  },
  {
   "cell_type": "code",
   "execution_count": 15,
   "metadata": {
    "colab": {
     "base_uri": "https://localhost:8080/"
    },
    "id": "4KJLTIDG0YJ5",
    "outputId": "9ae26df1-a6ed-4e3f-e3e0-3b47144e8278"
   },
   "outputs": [
    {
     "name": "stdout",
     "output_type": "stream",
     "text": [
      "postgresql\n",
      "['codon_usage', 'gene_aliases', 'gene_annotations', 'gff_annotations', 'protein_data']\n",
      "\n",
      "CREATE TABLE codon_usage (\n",
      "\tcodon VARCHAR(10), \n",
      "\taa CHAR(1), \n",
      "\tfreq NUMERIC(10, 4), \n",
      "\tabundance NUMERIC(10, 4)\n",
      ")\n",
      "\n",
      "/*\n",
      "3 rows from codon_usage table:\n",
      "codon\taa\tfreq\tabundance\n",
      "UAA\t*\t0.9100\t0.6900\n",
      "UGA\t*\t0.2700\t0.2100\n",
      "UAG\t*\t0.1300\t0.1000\n",
      "*/\n",
      "\n",
      "\n",
      "CREATE TABLE gene_aliases (\n",
      "\tgene_id VARCHAR(255), \n",
      "\talias1 VARCHAR(255), \n",
      "\talias2 VARCHAR(255), \n",
      "\talias3 VARCHAR(255), \n",
      "\talias4 VARCHAR(255), \n",
      "\talias5 VARCHAR(255), \n",
      "\talias6 VARCHAR(255), \n",
      "\talias7 VARCHAR(255), \n",
      "\talias8 VARCHAR(255), \n",
      "\talias9 VARCHAR(255)\n",
      ")\n",
      "\n",
      "/*\n",
      "3 rows from gene_aliases table:\n",
      "gene_id\talias1\talias2\talias3\talias4\talias5\talias6\talias7\talias8\talias9\n",
      "PF3D7_1314600\tPF13_0083\tNone\tNone\tNone\tNone\tNone\tNone\tNone\tNone\n",
      "PF3D7_0209400\tPF02_0090\tPFB0423c\tPFB0425c\tNone\tNone\tNone\tNone\tNone\tNone\n",
      "PF3D7_1142200\tPF11_0434\tNone\tNone\tNone\tNone\tNone\tNone\tNone\tNone\n",
      "*/\n",
      "\n",
      "\n",
      "CREATE TABLE gene_annotations (\n",
      "\tsource VARCHAR(50), \n",
      "\tgene_id VARCHAR(255), \n",
      "\tsymbol VARCHAR(255), \n",
      "\tgo_id VARCHAR(50), \n",
      "\treference VARCHAR(255), \n",
      "\tevidence VARCHAR(50), \n",
      "\taspect CHAR(10), \n",
      "\tdescription TEXT, \n",
      "\tsynonym VARCHAR(255), \n",
      "\tgene_type VARCHAR(100), \n",
      "\ttaxon VARCHAR(50), \n",
      "\tdate VARCHAR(20), \n",
      "\tassigned_by VARCHAR(100)\n",
      ")\n",
      "\n",
      "/*\n",
      "3 rows from gene_annotations table:\n",
      "source\tgene_id\tsymbol\tgo_id\treference\tevidence\taspect\tdescription\tsynonym\tgene_type\ttaxon\tdate\tassigned_by\n",
      "VEuPathDB\tPF3D7_0100100\tVAR\tGO:0020013\tPMID:9230440\tTAS\tBP        \terythrocyte membrane protein 1, PfEMP1\tVAR-UPSB1\tprotein_coding\t36329\t2024-03-21\tGeneDB\n",
      "VEuPathDB\tPF3D7_0100100\tVAR\tGO:0020033\tPMID:18785843\tTAS\tBP        \terythrocyte membrane protein 1, PfEMP1\tVAR-UPSB1\tprotein_coding\t36329\t2024-03-21\tGeneDB\n",
      "VEuPathDB\tPF3D7_0100100\tVAR\tGO:0020035\tPMID:11420100\tTAS\tBP        \terythrocyte membrane protein 1, PfEMP1\tVAR-UPSB1\tprotein_coding\t36329\t2024-03-21\tGeneDB\n",
      "*/\n",
      "\n",
      "\n",
      "CREATE TABLE gff_annotations (\n",
      "\tseqid VARCHAR(255), \n",
      "\tsource VARCHAR(255), \n",
      "\ttype VARCHAR(255), \n",
      "\tstart INTEGER, \n",
      "\tstop INTEGER, \n",
      "\tscore VARCHAR(10), \n",
      "\tstrand CHAR(1), \n",
      "\tphase CHAR(1), \n",
      "\tattributes TEXT\n",
      ")\n",
      "\n",
      "/*\n",
      "3 rows from gff_annotations table:\n",
      "seqid\tsource\ttype\tstart\tstop\tscore\tstrand\tphase\tattributes\n",
      "Pf3D7_01_v3\tVEuPathDB\tprotein_coding_gene\t29510\t37126\t.\t+\t.\tID=PF3D7_0100100;Name=VAR;description=erythrocyte membrane protein 1%2C PfEMP1;ebi_biotype=protein_c\n",
      "Pf3D7_01_v3\tVEuPathDB\tmRNA\t29510\t37126\t.\t+\t.\tID=PF3D7_0100100.1;Parent=PF3D7_0100100;description=erythrocyte membrane protein 1%2C PfEMP1;gene_eb\n",
      "Pf3D7_01_v3\tVEuPathDB\texon\t29510\t34762\t.\t+\t.\tID=exon_PF3D7_0100100.1-E1;Parent=PF3D7_0100100.1;gene_id=PF3D7_0100100\n",
      "*/\n",
      "\n",
      "\n",
      "CREATE TABLE protein_data (\n",
      "\tentry VARCHAR NOT NULL, \n",
      "\torganisms VARCHAR, \n",
      "\tlength INTEGER, \n",
      "\tfirst_seen DATE, \n",
      "\tlast_seen DATE, \n",
      "\torganism_id VARCHAR, \n",
      "\tprotein_names TEXT, \n",
      "\tsequence TEXT, \n",
      "\tpfam TEXT, \n",
      "\tsmart TEXT, \n",
      "\tamino_acid_composition JSONB, \n",
      "\tavg_hydrophobicity DOUBLE PRECISION, \n",
      "\tsecondary_structure JSONB, \n",
      "\tCONSTRAINT protein_data_pkey PRIMARY KEY (entry)\n",
      ")\n",
      "\n",
      "/*\n",
      "3 rows from protein_data table:\n",
      "entry\torganisms\tlength\tfirst_seen\tlast_seen\torganism_id\tprotein_names\tsequence\tpfam\tsmart\tamino_acid_composition\tavg_hydrophobicity\tsecondary_structure\n",
      "UPI00000001D7\tSaccharomyces cerevisiae (strain ATCC 204508 / S288c) (Baker's yeast); Saccharomyces cerevisiae (str\t147\t1988-11-01\t2024-03-27\t559292; 307796; 285006; 574961; 643680; 1095631; 1160507; 889517; 1080349; 252598; 4932; 27292; 2729\tCalmodulin;Calmodulin;Calmodulin;Cmd1p;Cmd1p;Cmd1p;Cmd1p;Cmd1p;CMD1-like protein;CMD1p Calmodulin;CM\tMSSNLTEEQIAEFKEAFALFDKDNNGSISSSELATVMRSLGLSPSEAEVNDLMNEIDVDGNHQIEFSEFLALMSRQLKSNDSEQELLEAFKVFDKNGDGL\tPF13499\tSM00054\t{'A': 8.16326530612245, 'D': 8.16326530612245, 'E': 12.244897959183673, 'F': 5.442176870748299, 'G':\t-0.2945578231292518\t['Coil', 'Sheet', 'Coil', 'Coil', 'Coil', 'Helix', 'Coil', 'Coil', 'Sheet', 'Coil', 'Coil', 'Coil', \n",
      "UPI0000000336\tSaccharomyces cerevisiae (strain ATCC 204508 / S288c) (Baker's yeast); Saccharomyces cerevisiae (str\t183\t1993-07-01\t2024-03-27\t559292; 307796; 285006; 545124; 574961; 643680; 721032; 1095631; 889517; 252598; 4932; 27292; 764098\tARS-binding factor 2, mitochondrial;ARS-binding factor;ARS-binding factor 2, mitochondrial;YMR072Wp-\tMNSYSLLTRSFHESSKPLFNLASTLLKASKRTQLRNELIKQGPKRPTSAYFLYLQDHRSQFVKENPTLRPAEISKIAGEKWQNLEADIKEKYISERKKLY\tPF00505\tSM00398\t{'A': 6.557377049180328, 'D': 4.371584699453552, 'E': 7.650273224043716, 'F': 3.825136612021858, 'G'\t-0.9732240437158476\t['Helix', 'Coil', 'Coil', 'Coil', 'Coil', 'Helix', 'Sheet', 'Coil', 'Helix', 'Helix', 'Sheet', 'Shee\n",
      "UPI00000003DE\tSaccharomyces cerevisiae (strain ATCC 204508 / S288c) (Baker's yeast); Saccharomyces cerevisiae (str\t203\t1995-02-01\t2024-03-27\t559292; 559292; 307796; 285006; 545124; 574961; 1095631; 4932; 764097; 764102; 1182966; 1182968; 118\tPutative GPI-anchored protein YAR066W;Putative GPI-anchored protein YHR214W;Conserved protein;Unchar\tMFNRFNKFQAAVALALLSRGALGDSYTNSTSSADLSSITSVSSASASATASDSLSSSDGTVYLPSTTISGDLTVTGKVIATEAVEVAAGGKLTLLDGEKY\tNone\tNone\t{'A': 10.83743842364532, 'D': 4.926108374384237, 'E': 5.41871921182266, 'F': 5.41871921182266, 'G': \t0.08128078817733984\t['Sheet', 'Sheet', 'Coil', 'Coil', 'Coil', 'Helix', 'Coil', 'Sheet', 'Coil', 'Coil', 'Helix', 'Sheet\n",
      "*/\n"
     ]
    }
   ],
   "source": [
    "print(db.dialect)\n",
    "print(db.get_usable_table_names())\n",
    "print(db.table_info)"
   ]
  },
  {
   "cell_type": "code",
   "execution_count": 18,
   "metadata": {
    "id": "Z6IfK8MV0wXy"
   },
   "outputs": [],
   "source": [
    "import os\n",
    "os.environ[\"OPENAI_API_KEY\"] = \"\"\n",
    "os.environ[\"LANGCHAIN_TRACING_V2\"] = \"true\"\n",
    "os.environ[\"LANGCHAIN_API_KEY\"] = \"\""
   ]
  },
  {
   "cell_type": "markdown",
   "metadata": {},
   "source": [
    "# Implementing multi Database Query Using Langchain"
   ]
  },
  {
   "cell_type": "markdown",
   "metadata": {},
   "source": [
    "## Creating a simple prompt and executing it using langchain"
   ]
  },
  {
   "cell_type": "markdown",
   "metadata": {},
   "source": [
    "#### Getting the prompt from chatgpt"
   ]
  },
  {
   "cell_type": "code",
   "execution_count": 19,
   "metadata": {
    "colab": {
     "base_uri": "https://localhost:8080/"
    },
    "id": "RiCC2ZNA006l",
    "outputId": "8d23dbdc-d221-47cc-e7d0-f96394dd11ed"
   },
   "outputs": [
    {
     "data": {
      "text/html": [
       "<pre style=\"white-space:pre;overflow-x:auto;line-height:normal;font-family:Menlo,'DejaVu Sans Mono',consolas,'Courier New',monospace\">HTTP Request: POST https://api.openai.com/v1/chat/completions \"HTTP/1.1 200 OK\"\n",
       "</pre>\n"
      ],
      "text/plain": [
       "HTTP Request: POST https://api.openai.com/v1/chat/completions \"HTTP/1.1 200 OK\"\n"
      ]
     },
     "metadata": {},
     "output_type": "display_data"
    },
    {
     "name": "stdout",
     "output_type": "stream",
     "text": [
      "SELECT \"avg_hydrophobicity\" \n",
      "FROM protein_data \n",
      "WHERE entry = 'UPI00000001D7';\n"
     ]
    }
   ],
   "source": [
    "from langchain.chains import create_sql_query_chain # This chain generates SQL queries for the given database.\n",
    "from langchain_openai import ChatOpenAI\n",
    "\n",
    "llm = ChatOpenAI(model=\"gpt-3.5-turbo\", temperature=0)\n",
    "generate_query = create_sql_query_chain(llm, db)\n",
    "query = generate_query.invoke({\"question\": \"What is the average hydrophobicity of UPI00000001D7\"})\n",
    "# \"what is price of `1968 Ford Mustang`\"\n",
    "print(query)"
   ]
  },
  {
   "cell_type": "markdown",
   "metadata": {},
   "source": [
    "#### Getting the value of the query through the QuerySQLDataBase tool"
   ]
  },
  {
   "cell_type": "code",
   "execution_count": 20,
   "metadata": {
    "colab": {
     "base_uri": "https://localhost:8080/",
     "height": 35
    },
    "id": "_BxL9qfW1el6",
    "outputId": "254a2ff3-e3d8-4fb8-ba95-a94ce578808c"
   },
   "outputs": [
    {
     "data": {
      "text/plain": [
       "'[(-0.2945578231292518,)]'"
      ]
     },
     "execution_count": 20,
     "metadata": {},
     "output_type": "execute_result"
    }
   ],
   "source": [
    "from langchain_community.tools.sql_database.tool import QuerySQLDataBaseTool # Tool for querying a SQL database.\n",
    "execute_query = QuerySQLDataBaseTool(db=db)\n",
    "execute_query.invoke(query)"
   ]
  },
  {
   "cell_type": "markdown",
   "metadata": {},
   "source": [
    "### Combining the above two steps together"
   ]
  },
  {
   "cell_type": "code",
   "execution_count": 21,
   "metadata": {
    "colab": {
     "base_uri": "https://localhost:8080/",
     "height": 35
    },
    "id": "Kf2TzUe203vc",
    "outputId": "a2c1ad8e-2b78-4341-b442-99ba68697c13"
   },
   "outputs": [
    {
     "data": {
      "text/html": [
       "<pre style=\"white-space:pre;overflow-x:auto;line-height:normal;font-family:Menlo,'DejaVu Sans Mono',consolas,'Courier New',monospace\">HTTP Request: POST https://api.openai.com/v1/chat/completions \"HTTP/1.1 200 OK\"\n",
       "</pre>\n"
      ],
      "text/plain": [
       "HTTP Request: POST https://api.openai.com/v1/chat/completions \"HTTP/1.1 200 OK\"\n"
      ]
     },
     "metadata": {},
     "output_type": "display_data"
    },
    {
     "data": {
      "text/plain": [
       "'[(-0.2945578231292518,)]'"
      ]
     },
     "execution_count": 21,
     "metadata": {},
     "output_type": "execute_result"
    }
   ],
   "source": [
    "chain = generate_query | execute_query\n",
    "chain.invoke({\"question\": \"What is the average hydrophobicity of UPI00000001D7\"})"
   ]
  },
  {
   "cell_type": "markdown",
   "metadata": {},
   "source": [
    "### Investigating the instruction passed to the LLM to generate the query"
   ]
  },
  {
   "cell_type": "code",
   "execution_count": null,
   "metadata": {
    "colab": {
     "base_uri": "https://localhost:8080/"
    },
    "id": "WkyqNw9f1JE3",
    "outputId": "c979a3c6-1d8c-4787-dd07-b806cb7d55db"
   },
   "outputs": [
    {
     "name": "stdout",
     "output_type": "stream",
     "text": [
      "You are a MySQL expert. Given an input question, first create a syntactically correct MySQL query to run, then look at the results of the query and return the answer to the input question.\n",
      "Unless the user specifies in the question a specific number of examples to obtain, query for at most 5 results using the LIMIT clause as per MySQL. You can order the results to return the most informative data in the database.\n",
      "Never query for all columns from a table. You must query only the columns that are needed to answer the question. Wrap each column name in backticks (`) to denote them as delimited identifiers.\n",
      "Pay attention to use only the column names you can see in the tables below. Be careful to not query for columns that do not exist. Also, pay attention to which column is in which table.\n",
      "Pay attention to use CURDATE() function to get the current date, if the question involves \"today\".\n",
      "\n",
      "Use the following format:\n",
      "\n",
      "Question: Question here\n",
      "SQLQuery: SQL Query to run\n",
      "SQLResult: Result of the SQLQuery\n",
      "Answer: Final answer here\n",
      "\n",
      "Only use the following tables:\n",
      "\u001b[33;1m\u001b[1;3m{table_info}\u001b[0m\n",
      "\n",
      "Question: \u001b[33;1m\u001b[1;3m{input}\u001b[0m\n"
     ]
    }
   ],
   "source": [
    "chain.get_prompts()[0].pretty_print()"
   ]
  },
  {
   "cell_type": "markdown",
   "metadata": {},
   "source": [
    "### Formatting the output that is sent back to the user"
   ]
  },
  {
   "cell_type": "code",
   "execution_count": 22,
   "metadata": {
    "colab": {
     "base_uri": "https://localhost:8080/",
     "height": 35
    },
    "id": "KVCYCPpU2s1d",
    "outputId": "3ea35814-8bc6-44eb-e106-f8c77922830a"
   },
   "outputs": [
    {
     "data": {
      "text/html": [
       "<pre style=\"white-space:pre;overflow-x:auto;line-height:normal;font-family:Menlo,'DejaVu Sans Mono',consolas,'Courier New',monospace\">HTTP Request: POST https://api.openai.com/v1/chat/completions \"HTTP/1.1 200 OK\"\n",
       "</pre>\n"
      ],
      "text/plain": [
       "HTTP Request: POST https://api.openai.com/v1/chat/completions \"HTTP/1.1 200 OK\"\n"
      ]
     },
     "metadata": {},
     "output_type": "display_data"
    },
    {
     "data": {
      "text/html": [
       "<pre style=\"white-space:pre;overflow-x:auto;line-height:normal;font-family:Menlo,'DejaVu Sans Mono',consolas,'Courier New',monospace\">HTTP Request: POST https://api.openai.com/v1/chat/completions \"HTTP/1.1 200 OK\"\n",
       "</pre>\n"
      ],
      "text/plain": [
       "HTTP Request: POST https://api.openai.com/v1/chat/completions \"HTTP/1.1 200 OK\"\n"
      ]
     },
     "metadata": {},
     "output_type": "display_data"
    },
    {
     "data": {
      "text/plain": [
       "\"The average hydrophobicity of the protein with the entry 'UPI00000001D7' is approximately -0.2946.\""
      ]
     },
     "execution_count": 22,
     "metadata": {},
     "output_type": "execute_result"
    }
   ],
   "source": [
    "from operator import itemgetter\n",
    "\n",
    "from langchain_core.output_parsers import StrOutputParser\n",
    "from langchain_core.prompts import PromptTemplate\n",
    "from langchain_core.runnables import RunnablePassthrough\n",
    "\n",
    "answer_prompt = PromptTemplate.from_template(\n",
    "    \"\"\"Given the following user question, corresponding SQL query, and SQL result, answer the user question.\n",
    "\n",
    "Question: {question}\n",
    "SQL Query: {query}\n",
    "SQL Result: {result}\n",
    "Answer: \"\"\"\n",
    ")\n",
    "\n",
    "rephrase_answer = answer_prompt | llm | StrOutputParser()\n",
    "\n",
    "# generate_query = create_sql_query_chain(llm, db)\n",
    "\n",
    "chain = (\n",
    "    RunnablePassthrough.assign(query=generate_query).assign(\n",
    "        result= itemgetter(\"query\") | execute_query\n",
    "    )\n",
    "    | rephrase_answer\n",
    ")\n",
    "\n",
    "chain.invoke({\"question\": \"What is the average hydrophobicity of UPI00000001D7\"})"
   ]
  },
  {
   "cell_type": "markdown",
   "metadata": {
    "id": "uPkoDITyWfxG"
   },
   "source": [
    "## Adding few-shot examples to enhance relevancy of queries"
   ]
  },
  {
   "cell_type": "code",
   "execution_count": 24,
   "metadata": {
    "id": "qJZ8vYwD3I4m"
   },
   "outputs": [],
   "source": [
    "# https://api.python.langchain.com/en/latest/prompts/langchain_core.prompts.few_shot.FewShotChatMessagePromptTemplate.html\n",
    "\n",
    "examples = [\n",
    "    {\n",
    "        \"input\": \"Retrieve all gene aliases for gene_id 'PF3D7_1314600'.\",\n",
    "        \"query\": \"SELECT * FROM gene_aliases WHERE gene_id = 'PF3D7_1314600';\"\n",
    "    },\n",
    "    {\n",
    "        \"input\": \"Count the total number of unique genes listed in the gene_annotations table.\",\n",
    "        \"query\": \"SELECT COUNT(DISTINCT gene_id) FROM gene_annotations;\"\n",
    "    },\n",
    "    {\n",
    "        \"input\": \"Find the most frequently used codon in the codon_usage table.\",\n",
    "        \"query\": \"SELECT codon, MAX(freq) FROM codon_usage GROUP BY codon ORDER BY MAX(freq) DESC LIMIT 1;\"\n",
    "    },\n",
    "    {\n",
    "        \"input\": \"List all protein data entries first seen after 2010.\",\n",
    "        \"query\": \"SELECT * FROM protein_data WHERE first_seen > '2010-01-01';\"\n",
    "    },\n",
    "    {\n",
    "        \"input\": \"Get details of gene annotations where the symbol is 'VAR'.\",\n",
    "        \"query\": \"SELECT * FROM gene_annotations WHERE symbol = 'VAR';\"\n",
    "    },\n",
    "    {\n",
    "        \"input\": \"Show sequences from the protein_data table with an average hydrophobicity greater than 0.\",\n",
    "        \"query\": \"SELECT sequence FROM protein_data WHERE avg_hydrophobicity > 0;\"\n",
    "    },\n",
    "    {\n",
    "        \"input\": \"List all genes and their aliases from gene_aliases where alias9 is not NULL.\",\n",
    "        \"query\": \"SELECT gene_id, alias1, alias2, alias3, alias4, alias5, alias6, alias7, alias8, alias9 FROM gene_aliases WHERE alias9 IS NOT NULL;\"\n",
    "    },\n",
    "    {\n",
    "        \"input\": \"Find all GFF annotations related to pseudogenes.\",\n",
    "        \"query\": \"SELECT * FROM gff_annotations WHERE type = 'pseudogene';\"\n",
    "    },\n",
    "    {\n",
    "        \"input\": \"Retrieve all protein entries for Homo sapiens.\",\n",
    "        \"query\": \"SELECT * FROM protein_data WHERE organisms LIKE '%Homo sapiens%';\"\n",
    "    },\n",
    "    {\n",
    "        \"input\": \"Show details of the longest protein sequence.\",\n",
    "        \"query\": \"SELECT MAX(length), entry FROM protein_data GROUP BY entry ORDER BY MAX(length) DESC LIMIT 1;\"\n",
    "    },\n",
    "    {\n",
    "        \"input\": \"List gene annotations categorized under biological process (BP).\",\n",
    "        \"query\": \"SELECT * FROM gene_annotations WHERE aspect = 'BP';\"\n",
    "    },\n",
    "    {\n",
    "        \"input\": \"Find codon usage details where the abundance is less than 0.2.\",\n",
    "        \"query\": \"SELECT * FROM codon_usage WHERE abundance < 0.2;\"\n",
    "    },\n",
    "    {\n",
    "        \"input\": \"Retrieve annotations for genes first annotated by VEuPathDB.\",\n",
    "        \"query\": \"SELECT * FROM gene_annotations WHERE source = 'VEuPathDB';\"\n",
    "    },\n",
    "    {\n",
    "        \"input\": \"List all gene_ids and their corresponding protein names with multiple aliases.\",\n",
    "        \"query\": \"SELECT ga.gene_id, pd.protein_names FROM gene_aliases ga JOIN protein_data pd ON ga.gene_id = pd.entry WHERE ga.alias2 IS NOT NULL;\"\n",
    "    },\n",
    "    {\n",
    "        \"input\": \"Find proteins with no known pfam assigned.\",\n",
    "        \"query\": \"SELECT entry, protein_names FROM protein_data WHERE pfam IS NULL;\"\n",
    "    },\n",
    "    {\n",
    "        \"input\": \"List all entries from gff_annotations between start positions 500000 and 600000.\",\n",
    "        \"query\": \"SELECT * FROM gff_annotations WHERE start BETWEEN 500000 AND 600000;\"\n",
    "    },\n",
    "    {\n",
    "        \"input\": \"Show all protein data entries last seen before 2010 but first seen after 2000.\",\n",
    "        \"query\": \"SELECT * FROM protein_data WHERE first_seen > '2000-01-01' AND last_seen < '2010-01-01';\"\n",
    "    },\n",
    "    {\n",
    "        \"input\": \"Aggregate the average frequency of each amino acid in codon_usage.\",\n",
    "        \"query\": \"SELECT aa, AVG(freq) AS average_frequency FROM codon_usage GROUP BY aa;\"\n",
    "    },\n",
    "    {\n",
    "        \"input\": \"Find all annotations that have a gene_type of 'protein_coding' and are assigned by 'GeneDB'.\",\n",
    "        \"query\": \"SELECT * FROM gene_annotations WHERE gene_type = 'protein_coding' AND assigned_by = 'GeneDB';\"\n",
    "    },\n",
    "    {\n",
    "        \"input\": \"List every unique organism in the protein_data table along with the count of entries for each.\",\n",
    "        \"query\": \"SELECT organisms, COUNT(*) FROM protein_data GROUP BY organisms;\"\n",
    "    },\n",
    "    {\n",
    "        \"input\": \"List all gene_ids along with their corresponding protein names and the last time they were seen.\",\n",
    "        \"query\": \"SELECT ga.gene_id, pd.protein_names, pd.last_seen FROM gene_aliases ga JOIN protein_data pd ON ga.gene_id = pd.entry;\"\n",
    "    },\n",
    "    {\n",
    "        \"input\": \"Retrieve gene annotations and corresponding alias information for gene_id 'PF3D7_0100100'.\",\n",
    "        \"query\": \"SELECT ga.gene_id, ga.alias1, ga.alias2, ga.alias3, ga.alias4, ga.alias5, ga.alias6, ga.alias7, ga.alias8, ga.alias9, ann.description FROM gene_aliases ga JOIN gene_annotations ann ON ga.gene_id = ann.gene_id WHERE ga.gene_id = 'PF3D7_0100100';\"\n",
    "    },\n",
    "    {\n",
    "        \"input\": \"Find all gene annotations that have corresponding protein data, showing the gene's symbol, protein names, and sequence.\",\n",
    "        \"query\": \"SELECT ann.symbol, pd.protein_names, pd.sequence FROM gene_annotations ann JOIN protein_data pd ON ann.gene_id = pd.entry;\"\n",
    "    },\n",
    "    {\n",
    "        \"input\": \"List all genes that have a 'protein_coding' type in gene_annotations and their corresponding protein names and sequences from protein_data.\",\n",
    "        \"query\": \"SELECT ann.gene_id, pd.protein_names, pd.sequence FROM gene_annotations ann JOIN protein_data pd ON ann.gene_id = pd.entry WHERE ann.gene_type = 'protein_coding';\"\n",
    "    },\n",
    "    {\n",
    "        \"input\": \"Show gene_id, all aliases, and description for genes that are associated with the GO term 'GO:0020013'.\",\n",
    "        \"query\": \"SELECT ga.gene_id, ga.alias1, ga.alias2, ga.alias3, ga.alias4, ga.alias5, ga.alias6, ga.alias7, ga.alias8, ga.alias9, ann.description FROM gene_aliases ga JOIN gene_annotations ann ON ga.gene_id = ann.gene_id WHERE ann.go_id = 'GO:0020013';\"\n",
    "    },\n",
    "    {\n",
    "        \"input\": \"Retrieve detailed annotations for all genes annotated by 'GeneDB' along with their aliases and last seen protein data.\",\n",
    "        \"query\": \"SELECT ann.gene_id, ann.description, ga.alias1, pd.last_seen FROM gene_annotations ann JOIN gene_aliases ga ON ann.gene_id = ga.gene_id JOIN protein_data pd ON ann.gene_id = pd.entry WHERE ann.assigned_by = 'GeneDB';\"\n",
    "    },\n",
    "    {\n",
    "        \"input\": \"List all GFF annotations and corresponding gene annotations for the sequences starting from position 500000 to 600000.\",\n",
    "        \"query\": \"SELECT gff.seqid, gff.start, gff.stop, gff.type, ann.gene_id, ann.description FROM gff_annotations gff JOIN gene_annotations ann ON gff.seqid = ann.gene_id WHERE gff.start BETWEEN 500000 AND 600000;\"\n",
    "    },\n",
    "    {\n",
    "        \"input\": \"Find proteins and their codon usage statistics where the protein was first seen before 2005 and the codon frequency is greater than 0.5.\",\n",
    "        \"query\": \"SELECT pd.protein_names, cu.codon, cu.freq FROM protein_data pd JOIN codon_usage cu ON pd.entry = cu.codon WHERE pd.first_seen < '2005-01-01' AND cu.freq > 0.5;\"\n",
    "    },\n",
    "    {\n",
    "        \"input\": \"Show all protein sequences and their gene annotations where the protein is related to Homo sapiens and has a hydrophobicity less than 0.\",\n",
    "        \"query\": \"SELECT pd.sequence, ann.gene_id, ann.description FROM protein_data pd JOIN gene_annotations ann ON pd.entry = ann.gene_id WHERE pd.organisms LIKE '%Homo sapiens%' AND pd.avg_hydrophobicity < 0;\"\n",
    "    },\n",
    "    {\n",
    "        \"input\": \"List all gene aliases and corresponding protein data for genes that have more than five aliases.\",\n",
    "        \"query\": \"SELECT ga.gene_id, ga.alias1, ga.alias2, ga.alias3, ga.alias4, ga.alias5, ga.alias6, ga.alias7, ga.alias8, ga.alias9, pd.protein_names FROM gene_aliases ga JOIN protein_data pd ON ga.gene_id = pd.entry WHERE ga.alias6 IS NOT NULL;\"\n",
    "    }    \n",
    "]\n"
   ]
  },
  {
   "cell_type": "code",
   "execution_count": 34,
   "metadata": {
    "colab": {
     "base_uri": "https://localhost:8080/"
    },
    "id": "H3sLLayg3WV6",
    "outputId": "23f9b669-968f-4666-d78b-5ec08aa2d381"
   },
   "outputs": [],
   "source": [
    "from langchain_core.prompts import ChatPromptTemplate, MessagesPlaceholder,FewShotChatMessagePromptTemplate,PromptTemplate\n",
    "\n",
    "# Whenever we pass in an example from the few shot prompts list, format it in this way\n",
    "example_prompt = ChatPromptTemplate.from_messages(\n",
    "    [\n",
    "        (\"human\", \"{input}\\nSQLQuery:\"),\n",
    "        (\"ai\", \"{query}\"),\n",
    "    ]\n",
    ")\n",
    "\n",
    "# This few shot prompt is just like we pass a few examples to the LLM as support before we let it answer any question\n",
    "few_shot_prompt = FewShotChatMessagePromptTemplate(\n",
    "    example_prompt=example_prompt,\n",
    "    examples=examples,\n",
    "    input_variables=[\"input\"], # Which variable holds the value sent from the user \n",
    ")\n",
    "# print(few_shot_prompt.format())\n",
    "# Running the print statement will show the following in the console \n",
    "\n",
    "# Human: Retrieve all gene aliases for gene_id 'PF3D7_1314600'.\n",
    "# SQLQuery:\n",
    "# AI: SELECT * FROM gene_aliases WHERE gene_id = 'PF3D7_1314600';\n",
    "# Human: Count the total number of unique genes listed in the gene_annotations table.\n",
    "# SQLQuery:\n",
    "# AI: SELECT COUNT(DISTINCT gene_id) FROM gene_annotations;\n",
    "# Human: Find the most frequently used codon in the codon_usage table.\n",
    "# SQLQuery:\n",
    "# AI: SELECT codon, MAX(freq) FROM codon_usage GROUP BY codon ORDER BY MAX(freq) DESC LIMIT 1;\n",
    "# .......\n",
    "# ...\n",
    "# ...\n",
    "# ..\n"
   ]
  },
  {
   "cell_type": "markdown",
   "metadata": {
    "id": "JRjiZ1O-WkX5"
   },
   "source": [
    "### Dynamic few-shot example selection"
   ]
  },
  {
   "cell_type": "markdown",
   "metadata": {},
   "source": [
    "#### Here we want to select relevant examples from the list of available examples\n",
    "\n",
    "This uses semantic similarity which is an inbuilt feature in langchain to pick the most similar examples\n",
    "As users ask queries and keep using the app, we can get more examples so the system can learn from it's users\n",
    "Store the user interaction data in a kv store for fast retrieval"
   ]
  },
  {
   "cell_type": "code",
   "execution_count": 87,
   "metadata": {
    "colab": {
     "base_uri": "https://localhost:8080/"
    },
    "id": "FLLY5GkD4FaJ",
    "outputId": "146693c9-0f03-43b1-e03b-aad5c84f1490"
   },
   "outputs": [
    {
     "data": {
      "text/html": [
       "<pre style=\"white-space:pre;overflow-x:auto;line-height:normal;font-family:Menlo,'DejaVu Sans Mono',consolas,'Courier New',monospace\">HTTP Request: POST https://api.openai.com/v1/embeddings \"HTTP/1.1 200 OK\"\n",
       "</pre>\n"
      ],
      "text/plain": [
       "HTTP Request: POST https://api.openai.com/v1/embeddings \"HTTP/1.1 200 OK\"\n"
      ]
     },
     "metadata": {},
     "output_type": "display_data"
    },
    {
     "data": {
      "text/html": [
       "<pre style=\"white-space:pre;overflow-x:auto;line-height:normal;font-family:Menlo,'DejaVu Sans Mono',consolas,'Courier New',monospace\">HTTP Request: POST https://api.openai.com/v1/embeddings \"HTTP/1.1 200 OK\"\n",
       "</pre>\n"
      ],
      "text/plain": [
       "HTTP Request: POST https://api.openai.com/v1/embeddings \"HTTP/1.1 200 OK\"\n"
      ]
     },
     "metadata": {},
     "output_type": "display_data"
    },
    {
     "data": {
      "text/plain": [
       "[{'input': 'Show sequences from the protein_data table with an average hydrophobicity greater than 0.',\n",
       "  'query': 'SELECT sequence FROM protein_data WHERE avg_hydrophobicity > 0;'},\n",
       " {'input': 'Show all protein sequences and their gene annotations where the protein is related to Homo sapiens and has a hydrophobicity less than 0.',\n",
       "  'query': \"SELECT pd.sequence, ann.gene_id, ann.description FROM protein_data pd JOIN gene_annotations ann ON pd.entry = ann.gene_id WHERE pd.organisms LIKE '%Homo sapiens%' AND pd.avg_hydrophobicity < 0;\"}]"
      ]
     },
     "execution_count": 87,
     "metadata": {},
     "output_type": "execute_result"
    }
   ],
   "source": [
    "from langchain_community.vectorstores import Chroma\n",
    "from langchain_core.example_selectors import SemanticSimilarityExampleSelector\n",
    "from langchain_openai import OpenAIEmbeddings\n",
    "\n",
    "vectorstore = Chroma()\n",
    "vectorstore.delete_collection()\n",
    "example_selector = SemanticSimilarityExampleSelector.from_examples(\n",
    "    examples, # Passing in all the available examples\n",
    "    OpenAIEmbeddings(), # Using a pre trained embedding for both the query and the examples\n",
    "    vectorstore, # Vector database that helps us with semantic search\n",
    "    k=2, # Pick just the top 2 examples that are semantically similar to the input question from the user\n",
    "    input_keys=[\"input\"], # Helps us pick the input queries that were similar to the previously asked queries, in real life, as users ask queries and keep using the app, we can get more examples so the system can learn from it's users\n",
    ")\n",
    "example_selector.select_examples({\"input\": \"What is the average hydrophobicity of UPI00000001D7\"})"
   ]
  },
  {
   "cell_type": "markdown",
   "metadata": {},
   "source": [
    "#### Using this example selector within our few shot prompt so we only pick relevant examples"
   ]
  },
  {
   "cell_type": "code",
   "execution_count": 88,
   "metadata": {
    "colab": {
     "base_uri": "https://localhost:8080/"
    },
    "id": "4rID0Q0d4jHj",
    "outputId": "bcf8be92-d57d-40d0-a0b2-4d06a99c701b"
   },
   "outputs": [
    {
     "data": {
      "text/html": [
       "<pre style=\"white-space:pre;overflow-x:auto;line-height:normal;font-family:Menlo,'DejaVu Sans Mono',consolas,'Courier New',monospace\">HTTP Request: POST https://api.openai.com/v1/embeddings \"HTTP/1.1 200 OK\"\n",
       "</pre>\n"
      ],
      "text/plain": [
       "HTTP Request: POST https://api.openai.com/v1/embeddings \"HTTP/1.1 200 OK\"\n"
      ]
     },
     "metadata": {},
     "output_type": "display_data"
    },
    {
     "name": "stdout",
     "output_type": "stream",
     "text": [
      "Human: Show sequences from the protein_data table with an average hydrophobicity greater than 0.\n",
      "SQLQuery:\n",
      "AI: SELECT sequence FROM protein_data WHERE avg_hydrophobicity > 0;\n",
      "Human: Show all protein sequences and their gene annotations where the protein is related to Homo sapiens and has a hydrophobicity less than 0.\n",
      "SQLQuery:\n",
      "AI: SELECT pd.sequence, ann.gene_id, ann.description FROM protein_data pd JOIN gene_annotations ann ON pd.entry = ann.gene_id WHERE pd.organisms LIKE '%Homo sapiens%' AND pd.avg_hydrophobicity < 0;\n"
     ]
    }
   ],
   "source": [
    "few_shot_prompt = FewShotChatMessagePromptTemplate(\n",
    "    example_prompt=example_prompt,\n",
    "    example_selector=example_selector, # Here rather than passing in all the examples, we pass in the example selector object \n",
    "    input_variables=[\"input\",\"top_k\"],\n",
    ")\n",
    "print(few_shot_prompt.format(input=\"What is the average hydrophobicity of UPI00000001D7\"))"
   ]
  },
  {
   "cell_type": "markdown",
   "metadata": {
    "id": "72ZSFWBeW_tE"
   },
   "source": [
    "### Building up to the final prompt to the LLM"
   ]
  },
  {
   "cell_type": "code",
   "execution_count": 89,
   "metadata": {
    "colab": {
     "base_uri": "https://localhost:8080/"
    },
    "id": "PCnlv2pd469x",
    "outputId": "06cc26ba-82fc-42a4-f195-e71915a6cb58"
   },
   "outputs": [
    {
     "data": {
      "text/html": [
       "<pre style=\"white-space:pre;overflow-x:auto;line-height:normal;font-family:Menlo,'DejaVu Sans Mono',consolas,'Courier New',monospace\">HTTP Request: POST https://api.openai.com/v1/embeddings \"HTTP/1.1 200 OK\"\n",
       "</pre>\n"
      ],
      "text/plain": [
       "HTTP Request: POST https://api.openai.com/v1/embeddings \"HTTP/1.1 200 OK\"\n"
      ]
     },
     "metadata": {},
     "output_type": "display_data"
    },
    {
     "name": "stdout",
     "output_type": "stream",
     "text": [
      "System: You are a MySQL expert. Given an input question, create a syntactically correct MySQL query to run. Unless otherwise specificed.\n",
      "\n",
      "Here is the relevant table info: some table info\n",
      "\n",
      "Below are a number of examples of questions and their corresponding SQL queries.\n",
      "Human: Show sequences from the protein_data table with an average hydrophobicity greater than 0.\n",
      "SQLQuery:\n",
      "AI: SELECT sequence FROM protein_data WHERE avg_hydrophobicity > 0;\n",
      "Human: Show all protein sequences and their gene annotations where the protein is related to Homo sapiens and has a hydrophobicity less than 0.\n",
      "SQLQuery:\n",
      "AI: SELECT pd.sequence, ann.gene_id, ann.description FROM protein_data pd JOIN gene_annotations ann ON pd.entry = ann.gene_id WHERE pd.organisms LIKE '%Homo sapiens%' AND pd.avg_hydrophobicity < 0;\n",
      "Human: What is the average hydrophobicity of UPI00000001D7\n",
      "\n",
      "SQL: \n"
     ]
    }
   ],
   "source": [
    "final_prompt = ChatPromptTemplate.from_messages(\n",
    "    [\n",
    "        (\"system\", \"You are a MySQL expert. Given an input question, create a syntactically correct MySQL query to run. Unless otherwise specificed.\\n\\nHere is the relevant table info: {table_info}\\n\\nBelow are a number of examples of questions and their corresponding SQL queries.\"),\n",
    "        few_shot_prompt,\n",
    "        (\"human\", \"{input}\\n\\nSQL: \"),\n",
    "    ]\n",
    ")\n",
    "print(final_prompt.format(input=\"What is the average hydrophobicity of UPI00000001D7\",table_info=\"some table info\"))"
   ]
  },
  {
   "cell_type": "code",
   "execution_count": 90,
   "metadata": {
    "colab": {
     "base_uri": "https://localhost:8080/",
     "height": 35
    },
    "id": "eN7UFbYs5ULO",
    "outputId": "33079972-0f2e-4c75-9294-0e87093d7348"
   },
   "outputs": [
    {
     "data": {
      "text/html": [
       "<pre style=\"white-space:pre;overflow-x:auto;line-height:normal;font-family:Menlo,'DejaVu Sans Mono',consolas,'Courier New',monospace\">HTTP Request: POST https://api.openai.com/v1/embeddings \"HTTP/1.1 200 OK\"\n",
       "</pre>\n"
      ],
      "text/plain": [
       "HTTP Request: POST https://api.openai.com/v1/embeddings \"HTTP/1.1 200 OK\"\n"
      ]
     },
     "metadata": {},
     "output_type": "display_data"
    },
    {
     "data": {
      "text/html": [
       "<pre style=\"white-space:pre;overflow-x:auto;line-height:normal;font-family:Menlo,'DejaVu Sans Mono',consolas,'Courier New',monospace\">HTTP Request: POST https://api.openai.com/v1/chat/completions \"HTTP/1.1 200 OK\"\n",
       "</pre>\n"
      ],
      "text/plain": [
       "HTTP Request: POST https://api.openai.com/v1/chat/completions \"HTTP/1.1 200 OK\"\n"
      ]
     },
     "metadata": {},
     "output_type": "display_data"
    },
    {
     "data": {
      "text/html": [
       "<pre style=\"white-space:pre;overflow-x:auto;line-height:normal;font-family:Menlo,'DejaVu Sans Mono',consolas,'Courier New',monospace\">HTTP Request: POST https://api.openai.com/v1/chat/completions \"HTTP/1.1 200 OK\"\n",
       "</pre>\n"
      ],
      "text/plain": [
       "HTTP Request: POST https://api.openai.com/v1/chat/completions \"HTTP/1.1 200 OK\"\n"
      ]
     },
     "metadata": {},
     "output_type": "display_data"
    },
    {
     "data": {
      "text/plain": [
       "\"The average hydrophobicity of the protein with the entry 'UPI00000001D7' is -0.2945578231292518.\""
      ]
     },
     "execution_count": 90,
     "metadata": {},
     "output_type": "execute_result"
    }
   ],
   "source": [
    "generate_query = create_sql_query_chain(llm, db, final_prompt) # Here along with the llm and the database information, we pass in the final prompt\n",
    "chain = (\n",
    "RunnablePassthrough.assign(query=generate_query).assign(\n",
    "    result=itemgetter(\"query\") | execute_query\n",
    ")\n",
    "| rephrase_answer\n",
    ")\n",
    "chain.invoke({\"question\": \"What is the average hydrophobicity of UPI00000001D7\"})"
   ]
  },
  {
   "cell_type": "markdown",
   "metadata": {
    "id": "VzLDjfdJWxQ0"
   },
   "source": [
    "## Dynamic relevant table selection"
   ]
  },
  {
   "cell_type": "markdown",
   "metadata": {},
   "source": [
    "### We additionally use information about the tables to pick and choose just the right tables for creating the queries. \n",
    "\n",
    "This also falls into the aspect of reducing token lengths for each query sent to the LLM"
   ]
  },
  {
   "cell_type": "code",
   "execution_count": 56,
   "metadata": {
    "colab": {
     "base_uri": "https://localhost:8080/"
    },
    "id": "fuTfq0e-6Mgi",
    "outputId": "39705a0e-eccd-48f3-bdd8-80ee970c1369"
   },
   "outputs": [
    {
     "name": "stdout",
     "output_type": "stream",
     "text": [
      "Table Name:codon_usage\n",
      "Table Description:This table stores data about the usage frequency and abundance of each codon. Codons are sequences of three DNA or RNA nucleotides that correspond to a specific amino acid or stop signal during protein synthesis. Each row represents a codon, its corresponding amino acid, and its frequency and abundance metrics in the genome.\n",
      "\n",
      "Table Name:gene_aliases\n",
      "Table Description:This table contains alias names for gene IDs. It helps in linking various names or identifiers that a single gene might be known by in different studies or databases. Each row contains a gene ID followed by multiple columns for potential aliases, helping to consolidate gene identification across different scientific literature or databases.\n",
      "\n",
      "Table Name:gene_annotations\n",
      "Table Description:The gene_annotations table stores detailed annotations for genes. This includes the source of the annotation, symbols, Gene Ontology IDs, references, evidence types, aspects (like biological process, cellular component, etc.), descriptions, synonyms, gene types, taxon identifiers, the date of annotation, and the organization that assigned the annotation.\n",
      "\n",
      "Table Name:gff_annotations\n",
      "Table Description:This table contains annotations from GFF (General Feature Format) files which are used to describe genes, gene structure, and other features of DNA, RNA, and protein sequences. The table includes fields such as the sequence ID, source, type of feature (like exon, intron, UTR), start and stop positions, score, strand, phase, and a free-text attributes field that can include IDs and descriptions.\n",
      "\n",
      "Table Name:protein_data\n",
      "Table Description:The protein_data table holds information related to proteins, including entries, organisms they are associated with, the length of the proteins, the first and last seen dates of the proteins in studies or databases, organism IDs, protein names, amino acid sequences, domain information (Pfam, SMART), amino acid composition, average hydrophobicity, and secondary structure descriptions. This table is crucial for understanding protein characteristics and their functions in various organisms.\n",
      "\n",
      "\n"
     ]
    }
   ],
   "source": [
    "from operator import itemgetter\n",
    "from langchain.chains.openai_tools import create_extraction_chain_pydantic\n",
    "from langchain_core.pydantic_v1 import BaseModel, Field\n",
    "from typing import List\n",
    "import pandas as pd\n",
    "\n",
    "def get_table_details():\n",
    "    # Read the CSV file into a DataFrame\n",
    "    table_description = pd.read_csv(\"database_table_descriptions.tsv\", sep=\"\\t\")\n",
    "    table_docs = []\n",
    "\n",
    "    # Iterate over the DataFrame rows to create Document objects\n",
    "    table_details = \"\"\n",
    "    for index, row in table_description.iterrows():\n",
    "        table_details = table_details + \"Table Name:\" + row['Table'] + \"\\n\" + \"Table Description:\" + row['Description'] + \"\\n\\n\"\n",
    "\n",
    "    return table_details\n",
    "\n",
    "\n",
    "class Table(BaseModel):\n",
    "    \"\"\"Table in SQL database.\"\"\"\n",
    "\n",
    "    name: str = Field(description=\"Name of table in SQL database.\")\n",
    "\n",
    "# table_names = \"\\n\".join(db.get_usable_table_names())\n",
    "table_details = get_table_details()\n",
    "print(table_details)"
   ]
  },
  {
   "cell_type": "markdown",
   "metadata": {},
   "source": [
    "### Testing out the table selection chain"
   ]
  },
  {
   "cell_type": "code",
   "execution_count": 65,
   "metadata": {
    "colab": {
     "base_uri": "https://localhost:8080/"
    },
    "id": "GA1TjUgm7EST",
    "outputId": "728a398c-2256-478f-dd17-ebf4b40ebfa4"
   },
   "outputs": [
    {
     "data": {
      "text/html": [
       "<pre style=\"white-space:pre;overflow-x:auto;line-height:normal;font-family:Menlo,'DejaVu Sans Mono',consolas,'Courier New',monospace\">HTTP Request: POST https://api.openai.com/v1/chat/completions \"HTTP/1.1 200 OK\"\n",
       "</pre>\n"
      ],
      "text/plain": [
       "HTTP Request: POST https://api.openai.com/v1/chat/completions \"HTTP/1.1 200 OK\"\n"
      ]
     },
     "metadata": {},
     "output_type": "display_data"
    },
    {
     "data": {
      "text/plain": [
       "[Table(name='protein_data'), Table(name='gene_aliases')]"
      ]
     },
     "execution_count": 65,
     "metadata": {},
     "output_type": "execute_result"
    }
   ],
   "source": [
    "table_details_prompt = f\"\"\"Return the names of ALL the SQL tables that MIGHT be relevant to the user question. \\\n",
    "The tables are:\n",
    "\n",
    "{table_details}\n",
    "\n",
    "Remember to include ALL POTENTIALLY RELEVANT tables, even if you're not sure that they're needed.\"\"\"\n",
    "\n",
    "table_chain = create_extraction_chain_pydantic(Table, llm, system_message=table_details_prompt)\n",
    "tables = table_chain.invoke({\"input\": \"What is the average hydrophobicity of UPI00000001D7\"})\n",
    "tables"
   ]
  },
  {
   "cell_type": "code",
   "execution_count": 66,
   "metadata": {
    "colab": {
     "base_uri": "https://localhost:8080/"
    },
    "id": "rTf1SphE69Xf",
    "outputId": "f8aac43c-b136-41a4-84d6-7ee08f9de0e3"
   },
   "outputs": [
    {
     "data": {
      "text/html": [
       "<pre style=\"white-space:pre;overflow-x:auto;line-height:normal;font-family:Menlo,'DejaVu Sans Mono',consolas,'Courier New',monospace\">HTTP Request: POST https://api.openai.com/v1/chat/completions \"HTTP/1.1 200 OK\"\n",
       "</pre>\n"
      ],
      "text/plain": [
       "HTTP Request: POST https://api.openai.com/v1/chat/completions \"HTTP/1.1 200 OK\"\n"
      ]
     },
     "metadata": {},
     "output_type": "display_data"
    },
    {
     "data": {
      "text/plain": [
       "['protein_data', 'gene_annotations']"
      ]
     },
     "execution_count": 66,
     "metadata": {},
     "output_type": "execute_result"
    }
   ],
   "source": [
    "def get_tables(tables: List[Table]) -> List[str]:\n",
    "    tables  = [table.name for table in tables]\n",
    "    return tables\n",
    "\n",
    "select_table = {\"input\": itemgetter(\"question\")} | create_extraction_chain_pydantic(Table, llm, system_message=table_details_prompt) | get_tables\n",
    "select_table.invoke({\"question\": \"What is the average hydrophobicity of UPI00000001D7\"})"
   ]
  },
  {
   "cell_type": "code",
   "execution_count": 91,
   "metadata": {
    "colab": {
     "base_uri": "https://localhost:8080/",
     "height": 35
    },
    "id": "6DyhowwN71ts",
    "outputId": "1c15d2ea-ee61-4647-8978-a598c9736784"
   },
   "outputs": [
    {
     "data": {
      "text/html": [
       "<pre style=\"white-space:pre;overflow-x:auto;line-height:normal;font-family:Menlo,'DejaVu Sans Mono',consolas,'Courier New',monospace\">HTTP Request: POST https://api.openai.com/v1/chat/completions \"HTTP/1.1 200 OK\"\n",
       "</pre>\n"
      ],
      "text/plain": [
       "HTTP Request: POST https://api.openai.com/v1/chat/completions \"HTTP/1.1 200 OK\"\n"
      ]
     },
     "metadata": {},
     "output_type": "display_data"
    },
    {
     "data": {
      "text/html": [
       "<pre style=\"white-space:pre;overflow-x:auto;line-height:normal;font-family:Menlo,'DejaVu Sans Mono',consolas,'Courier New',monospace\">HTTP Request: POST https://api.openai.com/v1/embeddings \"HTTP/1.1 200 OK\"\n",
       "</pre>\n"
      ],
      "text/plain": [
       "HTTP Request: POST https://api.openai.com/v1/embeddings \"HTTP/1.1 200 OK\"\n"
      ]
     },
     "metadata": {},
     "output_type": "display_data"
    },
    {
     "data": {
      "text/html": [
       "<pre style=\"white-space:pre;overflow-x:auto;line-height:normal;font-family:Menlo,'DejaVu Sans Mono',consolas,'Courier New',monospace\">HTTP Request: POST https://api.openai.com/v1/chat/completions \"HTTP/1.1 200 OK\"\n",
       "</pre>\n"
      ],
      "text/plain": [
       "HTTP Request: POST https://api.openai.com/v1/chat/completions \"HTTP/1.1 200 OK\"\n"
      ]
     },
     "metadata": {},
     "output_type": "display_data"
    },
    {
     "data": {
      "text/html": [
       "<pre style=\"white-space:pre;overflow-x:auto;line-height:normal;font-family:Menlo,'DejaVu Sans Mono',consolas,'Courier New',monospace\">HTTP Request: POST https://api.openai.com/v1/chat/completions \"HTTP/1.1 200 OK\"\n",
       "</pre>\n"
      ],
      "text/plain": [
       "HTTP Request: POST https://api.openai.com/v1/chat/completions \"HTTP/1.1 200 OK\"\n"
      ]
     },
     "metadata": {},
     "output_type": "display_data"
    },
    {
     "data": {
      "text/plain": [
       "\"The average hydrophobicity of the protein with the entry 'UPI00000001D7' is -0.2945578231292518.\""
      ]
     },
     "execution_count": 91,
     "metadata": {},
     "output_type": "execute_result"
    }
   ],
   "source": [
    "# table_names_to_use is a default value that is present in the generateQuery chain \n",
    "# generate_query = create_sql_query_chain(llm, db)\n",
    "# So in this chain, before we call the generate query, we begin by assigning a value to the `table_names_to_use` variable\n",
    "\n",
    "chain = (\n",
    "    RunnablePassthrough.assign(table_names_to_use=select_table) |\n",
    "    RunnablePassthrough.assign(query=generate_query).assign(\n",
    "        result=itemgetter(\"query\") | execute_query\n",
    "    )\n",
    "    | rephrase_answer\n",
    ")\n",
    "chain.invoke({\"question\": \"What is the average hydrophobicity of UPI00000001D7\"})"
   ]
  },
  {
   "cell_type": "markdown",
   "metadata": {},
   "source": [
    "## Checking if the context is retained "
   ]
  },
  {
   "cell_type": "code",
   "execution_count": 93,
   "metadata": {
    "colab": {
     "base_uri": "https://localhost:8080/",
     "height": 70
    },
    "id": "2GGHwgnI8T7i",
    "outputId": "2851a64e-7b99-4d17-fc02-ffd40027bafe"
   },
   "outputs": [
    {
     "data": {
      "text/html": [
       "<pre style=\"white-space:pre;overflow-x:auto;line-height:normal;font-family:Menlo,'DejaVu Sans Mono',consolas,'Courier New',monospace\">HTTP Request: POST https://api.openai.com/v1/chat/completions \"HTTP/1.1 200 OK\"\n",
       "</pre>\n"
      ],
      "text/plain": [
       "HTTP Request: POST https://api.openai.com/v1/chat/completions \"HTTP/1.1 200 OK\"\n"
      ]
     },
     "metadata": {},
     "output_type": "display_data"
    },
    {
     "data": {
      "text/html": [
       "<pre style=\"white-space:pre;overflow-x:auto;line-height:normal;font-family:Menlo,'DejaVu Sans Mono',consolas,'Courier New',monospace\">HTTP Request: POST https://api.openai.com/v1/embeddings \"HTTP/1.1 200 OK\"\n",
       "</pre>\n"
      ],
      "text/plain": [
       "HTTP Request: POST https://api.openai.com/v1/embeddings \"HTTP/1.1 200 OK\"\n"
      ]
     },
     "metadata": {},
     "output_type": "display_data"
    },
    {
     "data": {
      "text/html": [
       "<pre style=\"white-space:pre;overflow-x:auto;line-height:normal;font-family:Menlo,'DejaVu Sans Mono',consolas,'Courier New',monospace\">HTTP Request: POST https://api.openai.com/v1/chat/completions \"HTTP/1.1 200 OK\"\n",
       "</pre>\n"
      ],
      "text/plain": [
       "HTTP Request: POST https://api.openai.com/v1/chat/completions \"HTTP/1.1 200 OK\"\n"
      ]
     },
     "metadata": {},
     "output_type": "display_data"
    },
    {
     "data": {
      "text/html": [
       "<pre style=\"white-space:pre;overflow-x:auto;line-height:normal;font-family:Menlo,'DejaVu Sans Mono',consolas,'Courier New',monospace\">HTTP Request: POST https://api.openai.com/v1/chat/completions \"HTTP/1.1 200 OK\"\n",
       "</pre>\n"
      ],
      "text/plain": [
       "HTTP Request: POST https://api.openai.com/v1/chat/completions \"HTTP/1.1 200 OK\"\n"
      ]
     },
     "metadata": {},
     "output_type": "display_data"
    },
    {
     "data": {
      "text/plain": [
       "\"The next entry in the protein data table for organisms containing 'Homo sapiens' is for the protein with the ID UPI0000000980, which corresponds to Saccharomyces cerevisiae (Baker's yeast).\""
      ]
     },
     "execution_count": 93,
     "metadata": {},
     "output_type": "execute_result"
    }
   ],
   "source": [
    "chain.invoke({\"question\": \"Can you list their names?\"})"
   ]
  },
  {
   "cell_type": "markdown",
   "metadata": {
    "id": "dvy70bh0W28Q"
   },
   "source": [
    "On checking the trace of the above run, we observe that the following query has been created an executed \n",
    "```sql\n",
    "SQL Query: SELECT ga.gene_id, ga.alias1, ga.alias2, ga.alias3, ga.alias4, ga.alias5, ga.alias6, ga.alias7, ga.alias8, ga.alias9 FROM gene_aliases ga;\n",
    "```\n",
    "\n",
    "This has returned a pretty long output answer, that fails the number of tokens that can be passed into the model.\n",
    "\n",
    "## Adding memory to the chatbot so that it answers follow-up questions related to the database.\n",
    "\n",
    "\n",
    "\n",
    "\n"
   ]
  },
  {
   "cell_type": "code",
   "execution_count": 96,
   "metadata": {
    "colab": {
     "base_uri": "https://localhost:8080/"
    },
    "id": "StZ_P_5_87L6",
    "outputId": "e4dfe90f-2907-4c3c-d01e-d44ef182cd42"
   },
   "outputs": [
    {
     "data": {
      "text/html": [
       "<pre style=\"white-space:pre;overflow-x:auto;line-height:normal;font-family:Menlo,'DejaVu Sans Mono',consolas,'Courier New',monospace\">HTTP Request: POST https://api.openai.com/v1/embeddings \"HTTP/1.1 200 OK\"\n",
       "</pre>\n"
      ],
      "text/plain": [
       "HTTP Request: POST https://api.openai.com/v1/embeddings \"HTTP/1.1 200 OK\"\n"
      ]
     },
     "metadata": {},
     "output_type": "display_data"
    },
    {
     "name": "stdout",
     "output_type": "stream",
     "text": [
      "System: You are a MySQL expert. Given an input question, create a syntactically correct MySQL query to run. Unless otherwise specificed.\n",
      "\n",
      "Here is the relevant table info: some table info\n",
      "\n",
      "Below are a number of examples of questions and their corresponding SQL queries. Those examples are just for referecne and hsould be considered while answering follow up questions\n",
      "Human: Show sequences from the protein_data table with an average hydrophobicity greater than 0.\n",
      "SQLQuery:\n",
      "AI: SELECT sequence FROM protein_data WHERE avg_hydrophobicity > 0;\n",
      "Human: Show all protein sequences and their gene annotations where the protein is related to Homo sapiens and has a hydrophobicity less than 0.\n",
      "SQLQuery:\n",
      "AI: SELECT pd.sequence, ann.gene_id, ann.description FROM protein_data pd JOIN gene_annotations ann ON pd.entry = ann.gene_id WHERE pd.organisms LIKE '%Homo sapiens%' AND pd.avg_hydrophobicity < 0;\n",
      "Human: What is the average hydrophobicity of UPI00000001D7\n"
     ]
    }
   ],
   "source": [
    "final_prompt = ChatPromptTemplate.from_messages(\n",
    "    [\n",
    "        (\"system\", \"You are a MySQL expert. Given an input question, create a syntactically correct MySQL query to run. Unless otherwise specificed.\\n\\nHere is the relevant table info: {table_info}\\n\\nBelow are a number of examples of questions and their corresponding SQL queries. Those examples are just for referecne and hsould be considered while answering follow up questions\"),\n",
    "        few_shot_prompt,\n",
    "        MessagesPlaceholder(variable_name=\"messages\"),  # We add another field here that holds context of the conversation between the chatbot and the user\n",
    "        (\"human\", \"{input}\"),\n",
    "    ]\n",
    ")\n",
    "print(final_prompt.format(input=\"What is the average hydrophobicity of UPI00000001D7\",table_info=\"some table info\",messages=[]))"
   ]
  },
  {
   "cell_type": "code",
   "execution_count": 97,
   "metadata": {
    "id": "OmXe-uWJ8lvt"
   },
   "outputs": [],
   "source": [
    "from langchain.memory import ChatMessageHistory\n",
    "history = ChatMessageHistory()\n",
    "\n",
    "generate_query = create_sql_query_chain(llm, db,final_prompt)\n",
    "\n",
    "chain = (\n",
    "RunnablePassthrough.assign(table_names_to_use=select_table) |\n",
    "RunnablePassthrough.assign(query=generate_query).assign(\n",
    "    result=itemgetter(\"query\") | execute_query\n",
    ")\n",
    "| rephrase_answer\n",
    ")\n"
   ]
  },
  {
   "cell_type": "code",
   "execution_count": 98,
   "metadata": {
    "colab": {
     "base_uri": "https://localhost:8080/",
     "height": 35
    },
    "id": "6x-mjNpo9lc8",
    "outputId": "41c0b7b3-0563-4fda-e969-75aeb42d578a"
   },
   "outputs": [
    {
     "data": {
      "text/html": [
       "<pre style=\"white-space:pre;overflow-x:auto;line-height:normal;font-family:Menlo,'DejaVu Sans Mono',consolas,'Courier New',monospace\">HTTP Request: POST https://api.openai.com/v1/chat/completions \"HTTP/1.1 200 OK\"\n",
       "</pre>\n"
      ],
      "text/plain": [
       "HTTP Request: POST https://api.openai.com/v1/chat/completions \"HTTP/1.1 200 OK\"\n"
      ]
     },
     "metadata": {},
     "output_type": "display_data"
    },
    {
     "data": {
      "text/html": [
       "<pre style=\"white-space:pre;overflow-x:auto;line-height:normal;font-family:Menlo,'DejaVu Sans Mono',consolas,'Courier New',monospace\">HTTP Request: POST https://api.openai.com/v1/embeddings \"HTTP/1.1 200 OK\"\n",
       "</pre>\n"
      ],
      "text/plain": [
       "HTTP Request: POST https://api.openai.com/v1/embeddings \"HTTP/1.1 200 OK\"\n"
      ]
     },
     "metadata": {},
     "output_type": "display_data"
    },
    {
     "data": {
      "text/html": [
       "<pre style=\"white-space:pre;overflow-x:auto;line-height:normal;font-family:Menlo,'DejaVu Sans Mono',consolas,'Courier New',monospace\">HTTP Request: POST https://api.openai.com/v1/chat/completions \"HTTP/1.1 200 OK\"\n",
       "</pre>\n"
      ],
      "text/plain": [
       "HTTP Request: POST https://api.openai.com/v1/chat/completions \"HTTP/1.1 200 OK\"\n"
      ]
     },
     "metadata": {},
     "output_type": "display_data"
    },
    {
     "data": {
      "text/html": [
       "<pre style=\"white-space:pre;overflow-x:auto;line-height:normal;font-family:Menlo,'DejaVu Sans Mono',consolas,'Courier New',monospace\">HTTP Request: POST https://api.openai.com/v1/chat/completions \"HTTP/1.1 200 OK\"\n",
       "</pre>\n"
      ],
      "text/plain": [
       "HTTP Request: POST https://api.openai.com/v1/chat/completions \"HTTP/1.1 200 OK\"\n"
      ]
     },
     "metadata": {},
     "output_type": "display_data"
    },
    {
     "data": {
      "text/plain": [
       "\"The average hydrophobicity of the protein with the entry 'UPI00000001D7' is approximately -0.2946.\""
      ]
     },
     "execution_count": 98,
     "metadata": {},
     "output_type": "execute_result"
    }
   ],
   "source": [
    "question = \"What is the average hydrophobicity of UPI00000001D7\"\n",
    "response = chain.invoke({\"question\": question,\"messages\":history.messages})\n",
    "response"
   ]
  },
  {
   "cell_type": "code",
   "execution_count": 99,
   "metadata": {
    "id": "k98Hmj2Y9mvk"
   },
   "outputs": [],
   "source": [
    "history.add_user_message(question)\n",
    "history.add_ai_message(response)\n"
   ]
  },
  {
   "cell_type": "code",
   "execution_count": 100,
   "metadata": {
    "colab": {
     "base_uri": "https://localhost:8080/"
    },
    "id": "x9DLodzOonza",
    "outputId": "214bda35-1b95-4fa6-881f-d3cd62c7265d"
   },
   "outputs": [
    {
     "data": {
      "text/plain": [
       "[HumanMessage(content='What is the average hydrophobicity of UPI00000001D7'),\n",
       " AIMessage(content=\"The average hydrophobicity of the protein with the entry 'UPI00000001D7' is approximately -0.2946.\")]"
      ]
     },
     "execution_count": 100,
     "metadata": {},
     "output_type": "execute_result"
    }
   ],
   "source": [
    "history.messages"
   ]
  },
  {
   "cell_type": "code",
   "execution_count": 101,
   "metadata": {
    "colab": {
     "base_uri": "https://localhost:8080/",
     "height": 35
    },
    "id": "ptN_RIoI-CZX",
    "outputId": "58336587-f454-4bf8-a131-d45c96a47edc"
   },
   "outputs": [
    {
     "data": {
      "text/html": [
       "<pre style=\"white-space:pre;overflow-x:auto;line-height:normal;font-family:Menlo,'DejaVu Sans Mono',consolas,'Courier New',monospace\">HTTP Request: POST https://api.openai.com/v1/chat/completions \"HTTP/1.1 200 OK\"\n",
       "</pre>\n"
      ],
      "text/plain": [
       "HTTP Request: POST https://api.openai.com/v1/chat/completions \"HTTP/1.1 200 OK\"\n"
      ]
     },
     "metadata": {},
     "output_type": "display_data"
    },
    {
     "data": {
      "text/html": [
       "<pre style=\"white-space:pre;overflow-x:auto;line-height:normal;font-family:Menlo,'DejaVu Sans Mono',consolas,'Courier New',monospace\">HTTP Request: POST https://api.openai.com/v1/embeddings \"HTTP/1.1 200 OK\"\n",
       "</pre>\n"
      ],
      "text/plain": [
       "HTTP Request: POST https://api.openai.com/v1/embeddings \"HTTP/1.1 200 OK\"\n"
      ]
     },
     "metadata": {},
     "output_type": "display_data"
    },
    {
     "data": {
      "text/html": [
       "<pre style=\"white-space:pre;overflow-x:auto;line-height:normal;font-family:Menlo,'DejaVu Sans Mono',consolas,'Courier New',monospace\">HTTP Request: POST https://api.openai.com/v1/chat/completions \"HTTP/1.1 200 OK\"\n",
       "</pre>\n"
      ],
      "text/plain": [
       "HTTP Request: POST https://api.openai.com/v1/chat/completions \"HTTP/1.1 200 OK\"\n"
      ]
     },
     "metadata": {},
     "output_type": "display_data"
    },
    {
     "data": {
      "text/html": [
       "<pre style=\"white-space:pre;overflow-x:auto;line-height:normal;font-family:Menlo,'DejaVu Sans Mono',consolas,'Courier New',monospace\">HTTP Request: POST https://api.openai.com/v1/chat/completions \"HTTP/1.1 200 OK\"\n",
       "</pre>\n"
      ],
      "text/plain": [
       "HTTP Request: POST https://api.openai.com/v1/chat/completions \"HTTP/1.1 200 OK\"\n"
      ]
     },
     "metadata": {},
     "output_type": "display_data"
    },
    {
     "data": {
      "text/plain": [
       "\"The average hydrophobicity for the entry 'UPI0000000336' is -0.9732240437158476.\""
      ]
     },
     "execution_count": 101,
     "metadata": {},
     "output_type": "execute_result"
    }
   ],
   "source": [
    "response = chain.invoke({\"question\": \"What about the next entry ?\",\"messages\":history.messages})\n",
    "response"
   ]
  },
  {
   "cell_type": "code",
   "execution_count": 102,
   "metadata": {
    "id": "HVhNmBZcotjH"
   },
   "outputs": [
    {
     "data": {
      "text/html": [
       "<pre style=\"white-space:pre;overflow-x:auto;line-height:normal;font-family:Menlo,'DejaVu Sans Mono',consolas,'Courier New',monospace\">HTTP Request: POST https://api.openai.com/v1/chat/completions \"HTTP/1.1 200 OK\"\n",
       "</pre>\n"
      ],
      "text/plain": [
       "HTTP Request: POST https://api.openai.com/v1/chat/completions \"HTTP/1.1 200 OK\"\n"
      ]
     },
     "metadata": {},
     "output_type": "display_data"
    },
    {
     "data": {
      "text/html": [
       "<pre style=\"white-space:pre;overflow-x:auto;line-height:normal;font-family:Menlo,'DejaVu Sans Mono',consolas,'Courier New',monospace\">HTTP Request: POST https://api.openai.com/v1/embeddings \"HTTP/1.1 200 OK\"\n",
       "</pre>\n"
      ],
      "text/plain": [
       "HTTP Request: POST https://api.openai.com/v1/embeddings \"HTTP/1.1 200 OK\"\n"
      ]
     },
     "metadata": {},
     "output_type": "display_data"
    },
    {
     "data": {
      "text/html": [
       "<pre style=\"white-space:pre;overflow-x:auto;line-height:normal;font-family:Menlo,'DejaVu Sans Mono',consolas,'Courier New',monospace\">HTTP Request: POST https://api.openai.com/v1/chat/completions \"HTTP/1.1 200 OK\"\n",
       "</pre>\n"
      ],
      "text/plain": [
       "HTTP Request: POST https://api.openai.com/v1/chat/completions \"HTTP/1.1 200 OK\"\n"
      ]
     },
     "metadata": {},
     "output_type": "display_data"
    },
    {
     "data": {
      "text/html": [
       "<pre style=\"white-space:pre;overflow-x:auto;line-height:normal;font-family:Menlo,'DejaVu Sans Mono',consolas,'Courier New',monospace\">HTTP Request: POST https://api.openai.com/v1/chat/completions \"HTTP/1.1 200 OK\"\n",
       "</pre>\n"
      ],
      "text/plain": [
       "HTTP Request: POST https://api.openai.com/v1/chat/completions \"HTTP/1.1 200 OK\"\n"
      ]
     },
     "metadata": {},
     "output_type": "display_data"
    },
    {
     "data": {
      "text/plain": [
       "'The next entry in the database after UPI00000001D7 is UPI0000000336.'"
      ]
     },
     "execution_count": 102,
     "metadata": {},
     "output_type": "execute_result"
    }
   ],
   "source": [
    "response = chain.invoke({\"question\": \"What is the next entry in the database after UPI00000001D7 ?\",\"messages\":history.messages})\n",
    "response"
   ]
  },
  {
   "cell_type": "code",
   "execution_count": 103,
   "metadata": {},
   "outputs": [],
   "source": [
    "history.add_user_message(\"What is the next entry in the database after UPI00000001D7 ?\")\n",
    "history.add_ai_message(response)"
   ]
  },
  {
   "cell_type": "code",
   "execution_count": 105,
   "metadata": {},
   "outputs": [
    {
     "data": {
      "text/plain": [
       "[HumanMessage(content='What is the average hydrophobicity of UPI00000001D7'),\n",
       " AIMessage(content=\"The average hydrophobicity of the protein with the entry 'UPI00000001D7' is approximately -0.2946.\"),\n",
       " HumanMessage(content='What is the next entry in the database after UPI00000001D7 ?'),\n",
       " AIMessage(content='The next entry in the database after UPI00000001D7 is UPI0000000336.')]"
      ]
     },
     "execution_count": 105,
     "metadata": {},
     "output_type": "execute_result"
    }
   ],
   "source": [
    "history.messages"
   ]
  }
 ],
 "metadata": {
  "colab": {
   "include_colab_link": true,
   "provenance": []
  },
  "kernelspec": {
   "display_name": "Python 3 (ipykernel)",
   "language": "python",
   "name": "python3"
  },
  "language_info": {
   "codemirror_mode": {
    "name": "ipython",
    "version": 3
   },
   "file_extension": ".py",
   "mimetype": "text/x-python",
   "name": "python",
   "nbconvert_exporter": "python",
   "pygments_lexer": "ipython3",
   "version": "3.11.7"
  }
 },
 "nbformat": 4,
 "nbformat_minor": 4
}
